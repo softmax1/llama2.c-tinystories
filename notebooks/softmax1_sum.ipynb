{
 "cells": [
  {
   "cell_type": "code",
   "execution_count": 2,
   "metadata": {},
   "outputs": [
    {
     "data": {
      "text/plain": [
       "tensor([0.1000, 0.1000, 0.1000, 0.1000, 0.1000, 0.1000, 0.1000, 0.1000, 0.1000,\n",
       "        0.1000])"
      ]
     },
     "execution_count": 2,
     "metadata": {},
     "output_type": "execute_result"
    }
   ],
   "source": [
    "from torch import Tensor\n",
    "import torch\n",
    "\n",
    "\n",
    "def softmax_n_shifted_zeros(input: Tensor, n: int) -> Tensor:\n",
    "    \"\"\"\n",
    "    $\\text(softmax)_n(x_i) = exp(x_i) / (n + \\sum_j exp(x_j))$\n",
    "\n",
    "    Note: softmax_n, with fixed input, is _not_ shift-symmetric when n != 0, and we must account for this.\n",
    "    Normally when computing a softmax, the maxes are subtracted from the inputs for numeric stability.\n",
    "    \"\"\"\n",
    "    # compute the maxes along the last dimension\n",
    "    input_maxes = input.max(dim=-1, keepdim=True).values\n",
    "    # shift the input to prevent overflow (and underflow in the denominator)\n",
    "    shifted_inputs = torch.subtract(input, input_maxes)\n",
    "    # compute the numerator and softmax_0 denominator using the shifted input\n",
    "    numerator = torch.exp(shifted_inputs)\n",
    "    original_denominator = numerator.sum(dim=-1, keepdim=True)\n",
    "    # we need to shift the zeros in the same way we shifted the inputs\n",
    "    shifted_zeros = torch.multiply(input_maxes, -1)\n",
    "    # and then add this contribution to the denominator\n",
    "    denominator = torch.add(\n",
    "        original_denominator, torch.multiply(torch.exp(shifted_zeros), n)\n",
    "    )\n",
    "    return torch.divide(numerator, denominator)\n",
    "\n",
    "\n",
    "softmax_n_shifted_zeros(torch.tensor([10] * 10), 1)"
   ]
  },
  {
   "cell_type": "code",
   "execution_count": 3,
   "metadata": {},
   "outputs": [
    {
     "data": {
      "text/plain": [
       "tensor(0.0631)"
      ]
     },
     "execution_count": 3,
     "metadata": {},
     "output_type": "execute_result"
    }
   ],
   "source": [
    "softmax_n_shifted_zeros(torch.tensor([-5] * 10), torch.e**0).sum()"
   ]
  },
  {
   "cell_type": "code",
   "execution_count": 4,
   "metadata": {},
   "outputs": [
    {
     "data": {
      "text/plain": [
       "tensor(0.9091)"
      ]
     },
     "execution_count": 4,
     "metadata": {},
     "output_type": "execute_result"
    }
   ],
   "source": [
    "softmax_n_shifted_zeros(torch.tensor([0] * 10), 1).sum()"
   ]
  },
  {
   "cell_type": "code",
   "execution_count": 5,
   "metadata": {},
   "outputs": [
    {
     "data": {
      "text/plain": [
       "tensor([0.0090, 0.0901, 0.9009])"
      ]
     },
     "execution_count": 5,
     "metadata": {},
     "output_type": "execute_result"
    }
   ],
   "source": [
    "import torch.nn.functional as F\n",
    "import math\n",
    "\n",
    "F.softmax(torch.tensor([math.log(10), math.log(100), math.log(1000)]), dim=-1)"
   ]
  },
  {
   "cell_type": "code",
   "execution_count": 10,
   "metadata": {},
   "outputs": [
    {
     "data": {
      "text/plain": [
       "(tensor([0.0903, 0.1215, 0.0297, 0.0450, 0.0417, 0.3175, 0.0744, 0.1690, 0.0471,\n",
       "         0.0086]),\n",
       " tensor([0.0903, 0.1215, 0.0297, 0.0450, 0.0417, 0.3175, 0.0744, 0.1690, 0.0471,\n",
       "         0.0086]))"
      ]
     },
     "execution_count": 10,
     "metadata": {},
     "output_type": "execute_result"
    }
   ],
   "source": [
    "t = torch.randn(10)\n",
    "\n",
    "# Can pad F.softmax(t + [0])[:-1] to imitate softermax\n",
    "a = F.softmax(torch.concat((t, torch.tensor([0]))), dim=-1)[:-1]\n",
    "\n",
    "b = softmax_n_shifted_zeros(t, 1)\n",
    "\n",
    "a, b"
   ]
  }
 ],
 "metadata": {
  "kernelspec": {
   "display_name": "Python 3",
   "language": "python",
   "name": "python3"
  },
  "language_info": {
   "codemirror_mode": {
    "name": "ipython",
    "version": 3
   },
   "file_extension": ".py",
   "mimetype": "text/x-python",
   "name": "python",
   "nbconvert_exporter": "python",
   "pygments_lexer": "ipython3",
   "version": "3.9.17"
  },
  "orig_nbformat": 4
 },
 "nbformat": 4,
 "nbformat_minor": 2
}
